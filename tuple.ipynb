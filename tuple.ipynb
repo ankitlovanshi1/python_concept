{
 "cells": [
  {
   "cell_type": "code",
   "execution_count": 1,
   "id": "1ddd5685-58f2-4a7f-917b-c0a1543d6279",
   "metadata": {},
   "outputs": [
    {
     "data": {
      "text/plain": [
       "'\\ntuple is similer to the list but unlike list and tuple is immutable it means we can to update it after once created\\n\\n1. Ordered\\n2. Immutable\\n3. Allow Duplicates.\\n'"
      ]
     },
     "execution_count": 1,
     "metadata": {},
     "output_type": "execute_result"
    }
   ],
   "source": [
    "'''\n",
    "tuple is similer to the list but unlike list and tuple is immutable it means we can to update it after once created\n",
    "\n",
    "1. Ordered\n",
    "2. Immutable\n",
    "3. Allow Duplicates.\n",
    "'''"
   ]
  },
  {
   "cell_type": "code",
   "execution_count": 2,
   "id": "0b13d46a-ab80-4adc-ac09-19e5b7cc7c42",
   "metadata": {},
   "outputs": [
    {
     "name": "stdout",
     "output_type": "stream",
     "text": [
      "(10, 20, 30, 40)\n"
     ]
    }
   ],
   "source": [
    "# create tuple\n",
    "\n",
    "tup = (10, 20, 30, 40)\n",
    "print(tup)"
   ]
  },
  {
   "cell_type": "code",
   "execution_count": 6,
   "id": "20ea9474-61f2-4295-9c39-75159c221205",
   "metadata": {},
   "outputs": [
    {
     "name": "stdout",
     "output_type": "stream",
     "text": [
      "<class 'tuple'>\n"
     ]
    }
   ],
   "source": [
    "# check the type\n",
    "print(type(tup))"
   ]
  },
  {
   "cell_type": "code",
   "execution_count": 7,
   "id": "d6a5cc0b-396e-4449-9c86-403f1ba56aaf",
   "metadata": {},
   "outputs": [
    {
     "ename": "TypeError",
     "evalue": "'tuple' object is not callable",
     "output_type": "error",
     "traceback": [
      "\u001b[0;31m---------------------------------------------------------------------------\u001b[0m",
      "\u001b[0;31mTypeError\u001b[0m                                 Traceback (most recent call last)",
      "Cell \u001b[0;32mIn[7], line 3\u001b[0m\n\u001b[1;32m      1\u001b[0m \u001b[38;5;66;03m# access \u001b[39;00m\n\u001b[0;32m----> 3\u001b[0m \u001b[38;5;28mprint\u001b[39m(\u001b[43mtup\u001b[49m\u001b[43m(\u001b[49m\u001b[38;5;241;43m2\u001b[39;49m\u001b[43m)\u001b[49m)\n",
      "\u001b[0;31mTypeError\u001b[0m: 'tuple' object is not callable"
     ]
    }
   ],
   "source": [
    "# access \n",
    "\n",
    "print(tup(2))"
   ]
  },
  {
   "cell_type": "code",
   "execution_count": null,
   "id": "660c91ca-63ce-4a35-88c1-c57448ac6c65",
   "metadata": {},
   "outputs": [],
   "source": []
  },
  {
   "cell_type": "code",
   "execution_count": null,
   "id": "73da888a-e55e-4a5c-b287-660c40164f9c",
   "metadata": {},
   "outputs": [],
   "source": []
  }
 ],
 "metadata": {
  "kernelspec": {
   "display_name": "Python 3 (ipykernel)",
   "language": "python",
   "name": "python3"
  },
  "language_info": {
   "codemirror_mode": {
    "name": "ipython",
    "version": 3
   },
   "file_extension": ".py",
   "mimetype": "text/x-python",
   "name": "python",
   "nbconvert_exporter": "python",
   "pygments_lexer": "ipython3",
   "version": "3.10.12"
  }
 },
 "nbformat": 4,
 "nbformat_minor": 5
}
