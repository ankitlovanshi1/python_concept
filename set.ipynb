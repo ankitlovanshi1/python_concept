{
 "cells": [
  {
   "cell_type": "code",
   "execution_count": 18,
   "id": "b733373b-34ce-4d48-90da-e4f59e334688",
   "metadata": {},
   "outputs": [
    {
     "data": {
      "text/plain": [
       "\"\\nset is collection of unique data. it mean it does not store the duplicate data, basically it use for the store the data that should \\nunique like student id etc.\\nthere is no indexing that's why it does not maintain the orderd.\\n\""
      ]
     },
     "execution_count": 18,
     "metadata": {},
     "output_type": "execute_result"
    }
   ],
   "source": [
    "'''\n",
    "set is collection of unique data. it mean it does not store the duplicate data, basically it use for the store the data that should \n",
    "unique like student id etc.\n",
    "there is no indexing that's why it does not maintain the orderd.\n",
    "'''"
   ]
  },
  {
   "cell_type": "code",
   "execution_count": 20,
   "id": "e880853c-85bc-4b66-bf27-4cfd95b0b32a",
   "metadata": {},
   "outputs": [
    {
     "name": "stdout",
     "output_type": "stream",
     "text": [
      "{50, 20, 40, 10, 30}\n"
     ]
    }
   ],
   "source": [
    "# decleare the set\n",
    "\n",
    "set1 = {10, 20, 30, 40, 50}\n",
    "print(set1)"
   ]
  },
  {
   "cell_type": "code",
   "execution_count": 21,
   "id": "4aca4efb-deda-40ac-8afd-1bed5fb66d7a",
   "metadata": {},
   "outputs": [
    {
     "name": "stdout",
     "output_type": "stream",
     "text": [
      "Student ID: {112, 114, 115, 116, 118}\n"
     ]
    }
   ],
   "source": [
    "# create a set of integer type\n",
    "student_id = {112, 114, 116, 118, 115}\n",
    "print('Student ID:', student_id)"
   ]
  },
  {
   "cell_type": "code",
   "execution_count": null,
   "id": "e829f035-1b0d-4258-815b-2d04e821bab0",
   "metadata": {},
   "outputs": [],
   "source": []
  },
  {
   "cell_type": "code",
   "execution_count": null,
   "id": "5c1759db-541b-4780-beb9-c60732f6fd02",
   "metadata": {},
   "outputs": [],
   "source": []
  }
 ],
 "metadata": {
  "kernelspec": {
   "display_name": "Python 3 (ipykernel)",
   "language": "python",
   "name": "python3"
  },
  "language_info": {
   "codemirror_mode": {
    "name": "ipython",
    "version": 3
   },
   "file_extension": ".py",
   "mimetype": "text/x-python",
   "name": "python",
   "nbconvert_exporter": "python",
   "pygments_lexer": "ipython3",
   "version": "3.10.12"
  }
 },
 "nbformat": 4,
 "nbformat_minor": 5
}
