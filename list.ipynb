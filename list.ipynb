{
 "cells": [
  {
   "cell_type": "code",
   "execution_count": 9,
   "id": "25e498b4-7b2b-4964-872b-a65e34b45190",
   "metadata": {},
   "outputs": [
    {
     "name": "stdout",
     "output_type": "stream",
     "text": [
      "[10, 20, 30, 40, 50]\n"
     ]
    }
   ],
   "source": [
    "# declare list\n",
    "list1 = [10, 20, 30, 40, 50]\n",
    "print(list1)"
   ]
  },
  {
   "cell_type": "code",
   "execution_count": 10,
   "id": "e2706dd6-845f-4cd7-a729-7253952c9100",
   "metadata": {},
   "outputs": [
    {
     "name": "stdout",
     "output_type": "stream",
     "text": [
      "30\n"
     ]
    }
   ],
   "source": [
    "# access variable\n",
    "print(list1[2])"
   ]
  },
  {
   "cell_type": "code",
   "execution_count": 11,
   "id": "0c3c212b-3088-4770-9808-708a8885dffb",
   "metadata": {},
   "outputs": [
    {
     "name": "stdout",
     "output_type": "stream",
     "text": [
      "[10, 20, 30, 40, 50, 60]\n"
     ]
    }
   ],
   "source": [
    "# add variable\n",
    "list1.append(60)\n",
    "print(list1)"
   ]
  },
  {
   "cell_type": "code",
   "execution_count": 12,
   "id": "ddd5a7e9-1218-47f0-872f-4ae37bb02908",
   "metadata": {},
   "outputs": [
    {
     "name": "stdout",
     "output_type": "stream",
     "text": [
      "[0, 10, 20, 30, 40, 50, 60]\n"
     ]
    }
   ],
   "source": [
    "list1.insert(0, 0)\n",
    "print(list1)"
   ]
  },
  {
   "cell_type": "code",
   "execution_count": 16,
   "id": "682f4179-277b-4579-8e07-27f12e378d54",
   "metadata": {},
   "outputs": [
    {
     "name": "stdout",
     "output_type": "stream",
     "text": [
      "['a', 'b', 'c', 'A', 'B', 'C']\n"
     ]
    }
   ],
   "source": [
    "# extend\n",
    "\n",
    "small_laters = ['a', 'b', 'c']\n",
    "capital_laters = ['A', 'B', 'C']\n",
    "\n",
    "small_laters.extend(capital_laters)\n",
    "print(small_laters)"
   ]
  },
  {
   "cell_type": "code",
   "execution_count": 17,
   "id": "ebdb33ba-0eb2-4f46-9498-bc2926fbe7a8",
   "metadata": {},
   "outputs": [
    {
     "name": "stdout",
     "output_type": "stream",
     "text": [
      "C\n"
     ]
    }
   ],
   "source": [
    "# pop\n",
    "\n",
    "print(small_laters.pop())"
   ]
  },
  {
   "cell_type": "code",
   "execution_count": 18,
   "id": "e558e06a-bb07-4ab8-a10d-5b3793ec4afa",
   "metadata": {},
   "outputs": [
    {
     "name": "stdout",
     "output_type": "stream",
     "text": [
      "[10, 20, 30, 40, 50, 60]\n"
     ]
    }
   ],
   "source": [
    "# remove\n",
    "\n",
    "list1.remove(0)\n",
    "print(list1)"
   ]
  },
  {
   "cell_type": "code",
   "execution_count": 20,
   "id": "1f9b6d6e-4b7e-4e0e-ac08-a04a2be2821d",
   "metadata": {},
   "outputs": [
    {
     "name": "stdout",
     "output_type": "stream",
     "text": [
      "0\n"
     ]
    }
   ],
   "source": [
    "# index\n",
    "\n",
    "print(list1.index(10))"
   ]
  },
  {
   "cell_type": "code",
   "execution_count": null,
   "id": "c85646db-0841-4a99-b029-011a5e3c9a35",
   "metadata": {},
   "outputs": [],
   "source": []
  }
 ],
 "metadata": {
  "kernelspec": {
   "display_name": "Python 3 (ipykernel)",
   "language": "python",
   "name": "python3"
  },
  "language_info": {
   "codemirror_mode": {
    "name": "ipython",
    "version": 3
   },
   "file_extension": ".py",
   "mimetype": "text/x-python",
   "name": "python",
   "nbconvert_exporter": "python",
   "pygments_lexer": "ipython3",
   "version": "3.10.12"
  }
 },
 "nbformat": 4,
 "nbformat_minor": 5
}
